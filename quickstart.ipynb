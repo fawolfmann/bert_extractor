{
 "metadata": {
  "language_info": {
   "codemirror_mode": {
    "name": "ipython",
    "version": 3
   },
   "file_extension": ".py",
   "mimetype": "text/x-python",
   "name": "python",
   "nbconvert_exporter": "python",
   "pygments_lexer": "ipython3",
   "version": "3.8.5"
  },
  "orig_nbformat": 4,
  "kernelspec": {
   "name": "python3",
   "display_name": "Python 3.8.5 64-bit ('.venv': venv)"
  },
  "interpreter": {
   "hash": "855a8476fd5da69b77d0fb5c95206efc762a5495d53840c6fde715051c1310ed"
  }
 },
 "nbformat": 4,
 "nbformat_minor": 2,
 "cells": [
  {
   "source": [
    "# Bert Extractor quickstart\n",
    "This notebook is meant as a quickstart of this package and how to set it."
   ],
   "cell_type": "markdown",
   "metadata": {}
  },
  {
   "cell_type": "code",
   "execution_count": 1,
   "metadata": {},
   "outputs": [],
   "source": [
    "from bert_extractor.extractors import ReviewsExtractor"
   ]
  },
  {
   "source": [
    "Create a configuration dictionary this can be set with in the configs files."
   ],
   "cell_type": "markdown",
   "metadata": {}
  },
  {
   "cell_type": "code",
   "execution_count": 2,
   "metadata": {},
   "outputs": [],
   "source": [
    "configurations = {\n",
    "    \"configs\": \"tests\"\n",
    "}"
   ]
  },
  {
   "source": [
    "### Create an object of the ReviewExtractor"
   ],
   "cell_type": "markdown",
   "metadata": {}
  },
  {
   "cell_type": "code",
   "execution_count": null,
   "metadata": {},
   "outputs": [],
   "source": [
    "reviews = ReviewsExtractor(**configurations)"
   ]
  },
  {
   "source": [
    "### Extract and preprocess data"
   ],
   "cell_type": "markdown",
   "metadata": {}
  },
  {
   "cell_type": "code",
   "execution_count": null,
   "metadata": {},
   "outputs": [],
   "source": [
    "url = \"\"\n",
    "tensor_extracted = reviews.extract_preprocess(url)"
   ]
  },
  {
   "source": [
    "### Fit BERT model with extracted tensor"
   ],
   "cell_type": "markdown",
   "metadata": {}
  },
  {
   "cell_type": "code",
   "execution_count": null,
   "metadata": {},
   "outputs": [],
   "source": [
    "tensor_extracted"
   ]
  }
 ]
}